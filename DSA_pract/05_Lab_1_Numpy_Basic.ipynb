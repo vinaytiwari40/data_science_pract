{
  "nbformat": 4,
  "nbformat_minor": 0,
  "metadata": {
    "colab": {
      "name": "05_FDSLab1Numpy.ipynb",
      "provenance": [],
      "collapsed_sections": []
    },
    "kernelspec": {
      "name": "python3",
      "display_name": "Python 3"
    },
    "language_info": {
      "name": "python"
    }
  },
  "cells": [
    {
      "cell_type": "markdown",
      "metadata": {
        "id": "qJjch862czJ6"
      },
      "source": [
        "**Numpy library**"
      ]
    },
    {
      "cell_type": "code",
      "metadata": {
        "colab": {
          "base_uri": "https://localhost:8080/"
        },
        "id": "vGIsXf38Z31f",
        "outputId": "62e419af-d535-479d-b338-9e0985640734"
      },
      "source": [
        "print('hello')"
      ],
      "execution_count": 3,
      "outputs": [
        {
          "output_type": "stream",
          "text": [
            "hello\n"
          ],
          "name": "stdout"
        }
      ]
    },
    {
      "cell_type": "code",
      "metadata": {
        "colab": {
          "base_uri": "https://localhost:8080/"
        },
        "id": "3s_Td3zndguP",
        "outputId": "2f336b8b-80a9-491b-eb7e-bd2c834c831b"
      },
      "source": [
        "a = 2\n",
        "a"
      ],
      "execution_count": 4,
      "outputs": [
        {
          "output_type": "execute_result",
          "data": {
            "text/plain": [
              "2"
            ]
          },
          "metadata": {
            "tags": []
          },
          "execution_count": 4
        }
      ]
    },
    {
      "cell_type": "code",
      "metadata": {
        "colab": {
          "base_uri": "https://localhost:8080/"
        },
        "id": "VqSPHKhUefgn",
        "outputId": "49b1bc50-36db-4bb8-d8a2-d8d3880a9ee1"
      },
      "source": [
        "a = 2\n",
        "b = 3\n",
        "print('a = '+str(a)+' and '+'b = '+str(b))"
      ],
      "execution_count": 8,
      "outputs": [
        {
          "output_type": "stream",
          "text": [
            "a = 2 and b = 3\n"
          ],
          "name": "stdout"
        }
      ]
    },
    {
      "cell_type": "code",
      "metadata": {
        "colab": {
          "base_uri": "https://localhost:8080/"
        },
        "id": "xTHZaNx8dxBE",
        "outputId": "2146f9eb-0081-4d0c-c8db-505f9c87ac91"
      },
      "source": [
        "type(a)"
      ],
      "execution_count": 10,
      "outputs": [
        {
          "output_type": "execute_result",
          "data": {
            "text/plain": [
              "int"
            ]
          },
          "metadata": {
            "tags": []
          },
          "execution_count": 10
        }
      ]
    },
    {
      "cell_type": "code",
      "metadata": {
        "colab": {
          "base_uri": "https://localhost:8080/"
        },
        "id": "Bk4hZSxCf0UW",
        "outputId": "ead31677-a0dc-434b-c789-07e757bdf87e"
      },
      "source": [
        "s1 = 'RJ college'\n",
        "type(s1)"
      ],
      "execution_count": 13,
      "outputs": [
        {
          "output_type": "execute_result",
          "data": {
            "text/plain": [
              "str"
            ]
          },
          "metadata": {
            "tags": []
          },
          "execution_count": 13
        }
      ]
    },
    {
      "cell_type": "code",
      "metadata": {
        "colab": {
          "base_uri": "https://localhost:8080/"
        },
        "id": "XKgs0Tpkf_i8",
        "outputId": "5ebc4e81-f346-4d18-a306-4b2a456c1afc"
      },
      "source": [
        "f=2.34546796547\n",
        "type(f)"
      ],
      "execution_count": 14,
      "outputs": [
        {
          "output_type": "execute_result",
          "data": {
            "text/plain": [
              "float"
            ]
          },
          "metadata": {
            "tags": []
          },
          "execution_count": 14
        }
      ]
    },
    {
      "cell_type": "markdown",
      "metadata": {
        "id": "xUleIa59hLrQ"
      },
      "source": [
        "> indent"
      ]
    },
    {
      "cell_type": "markdown",
      "metadata": {
        "id": "wbRurDwTgULb"
      },
      "source": [
        "\n",
        "$y = x^2$"
      ]
    },
    {
      "cell_type": "markdown",
      "metadata": {
        "id": "ElsRWSl-jUgo"
      },
      "source": [
        "https://numpy.org/doc/stable/user/whatisnumpy.html"
      ]
    },
    {
      "cell_type": "code",
      "metadata": {
        "colab": {
          "base_uri": "https://localhost:8080/"
        },
        "id": "LWqZEfzQhReY",
        "outputId": "de06cabc-099b-48ec-b608-b8eefb398d25"
      },
      "source": [
        "a=[1,2,3]\n",
        "a"
      ],
      "execution_count": 15,
      "outputs": [
        {
          "output_type": "execute_result",
          "data": {
            "text/plain": [
              "[1, 2, 3]"
            ]
          },
          "metadata": {
            "tags": []
          },
          "execution_count": 15
        }
      ]
    },
    {
      "cell_type": "code",
      "metadata": {
        "colab": {
          "base_uri": "https://localhost:8080/"
        },
        "id": "KBxtwfuYjmeJ",
        "outputId": "c23f58b6-2f96-4643-c216-d0f6fec51cfc"
      },
      "source": [
        "type(a)"
      ],
      "execution_count": 16,
      "outputs": [
        {
          "output_type": "execute_result",
          "data": {
            "text/plain": [
              "list"
            ]
          },
          "metadata": {
            "tags": []
          },
          "execution_count": 16
        }
      ]
    },
    {
      "cell_type": "code",
      "metadata": {
        "colab": {
          "base_uri": "https://localhost:8080/"
        },
        "id": "SGvRbTJUjpoH",
        "outputId": "a459fbfd-6f00-42d6-970c-e9be25271ec2"
      },
      "source": [
        "b=[4,5,6]\n",
        "b"
      ],
      "execution_count": 17,
      "outputs": [
        {
          "output_type": "execute_result",
          "data": {
            "text/plain": [
              "[4, 5, 6]"
            ]
          },
          "metadata": {
            "tags": []
          },
          "execution_count": 17
        }
      ]
    },
    {
      "cell_type": "code",
      "metadata": {
        "colab": {
          "base_uri": "https://localhost:8080/"
        },
        "id": "U4LBf_oJj4DQ",
        "outputId": "71282f64-019b-45cc-c4f4-a4d6ede84d00"
      },
      "source": [
        "c = []\n",
        "for i in range(len(a)):\n",
        "  c.append(a[i]*b[i])\n",
        "c"
      ],
      "execution_count": 20,
      "outputs": [
        {
          "output_type": "execute_result",
          "data": {
            "text/plain": [
              "[4, 10, 18]"
            ]
          },
          "metadata": {
            "tags": []
          },
          "execution_count": 20
        }
      ]
    },
    {
      "cell_type": "code",
      "metadata": {
        "colab": {
          "base_uri": "https://localhost:8080/"
        },
        "id": "OjcXOn2HkqBc",
        "outputId": "bf61acd3-67d5-4801-f928-ff426d20d709"
      },
      "source": [
        "c = []\n",
        "for i in range(len(a)):\n",
        "  c.append(a[i]+b[i])\n",
        "c"
      ],
      "execution_count": 21,
      "outputs": [
        {
          "output_type": "execute_result",
          "data": {
            "text/plain": [
              "[5, 7, 9]"
            ]
          },
          "metadata": {
            "tags": []
          },
          "execution_count": 21
        }
      ]
    },
    {
      "cell_type": "code",
      "metadata": {
        "colab": {
          "base_uri": "https://localhost:8080/"
        },
        "id": "bYyXhpFdks3B",
        "outputId": "90375b58-b9ae-4ef6-fa8e-4523b25d37bf"
      },
      "source": [
        "import time\n",
        "print('sleeping')\n",
        "time.sleep(30)\n",
        "print('done sleeping')"
      ],
      "execution_count": 22,
      "outputs": [
        {
          "output_type": "stream",
          "text": [
            "sleeping\n",
            "done sleeping\n"
          ],
          "name": "stdout"
        }
      ]
    },
    {
      "cell_type": "code",
      "metadata": {
        "colab": {
          "base_uri": "https://localhost:8080/"
        },
        "id": "uw6HIr7ImCoQ",
        "outputId": "f1589449-b3c4-4d8f-80c5-fca97a00dc98"
      },
      "source": [
        "import numpy as np\n",
        "a=np.arange(15).reshape(3,5)\n",
        "a"
      ],
      "execution_count": 26,
      "outputs": [
        {
          "output_type": "execute_result",
          "data": {
            "text/plain": [
              "array([[ 0,  1,  2,  3,  4],\n",
              "       [ 5,  6,  7,  8,  9],\n",
              "       [10, 11, 12, 13, 14]])"
            ]
          },
          "metadata": {
            "tags": []
          },
          "execution_count": 26
        }
      ]
    },
    {
      "cell_type": "code",
      "metadata": {
        "colab": {
          "base_uri": "https://localhost:8080/"
        },
        "id": "KTg-YQ9bozFj",
        "outputId": "87e44c54-2754-4724-aa13-31101c907103"
      },
      "source": [
        "a.ndim"
      ],
      "execution_count": 27,
      "outputs": [
        {
          "output_type": "execute_result",
          "data": {
            "text/plain": [
              "2"
            ]
          },
          "metadata": {
            "tags": []
          },
          "execution_count": 27
        }
      ]
    },
    {
      "cell_type": "code",
      "metadata": {
        "colab": {
          "base_uri": "https://localhost:8080/"
        },
        "id": "H_uxSvs7n4ml",
        "outputId": "080ef372-5d07-4b71-e554-d27b7e57b36e"
      },
      "source": [
        "a.dtype"
      ],
      "execution_count": 28,
      "outputs": [
        {
          "output_type": "execute_result",
          "data": {
            "text/plain": [
              "dtype('int64')"
            ]
          },
          "metadata": {
            "tags": []
          },
          "execution_count": 28
        }
      ]
    },
    {
      "cell_type": "code",
      "metadata": {
        "colab": {
          "base_uri": "https://localhost:8080/",
          "height": 35
        },
        "id": "6Ix7AZ05pRYi",
        "outputId": "981bd1bf-d866-4877-cc9e-62e45838aaa2"
      },
      "source": [
        "a.dtype.name"
      ],
      "execution_count": 29,
      "outputs": [
        {
          "output_type": "execute_result",
          "data": {
            "application/vnd.google.colaboratory.intrinsic+json": {
              "type": "string"
            },
            "text/plain": [
              "'int64'"
            ]
          },
          "metadata": {
            "tags": []
          },
          "execution_count": 29
        }
      ]
    },
    {
      "cell_type": "code",
      "metadata": {
        "colab": {
          "base_uri": "https://localhost:8080/"
        },
        "id": "tEJ2uW60pcSR",
        "outputId": "ff97514b-a68a-45c6-a89a-3c44a47abd47"
      },
      "source": [
        "a.itemsize"
      ],
      "execution_count": 30,
      "outputs": [
        {
          "output_type": "execute_result",
          "data": {
            "text/plain": [
              "8"
            ]
          },
          "metadata": {
            "tags": []
          },
          "execution_count": 30
        }
      ]
    },
    {
      "cell_type": "code",
      "metadata": {
        "colab": {
          "base_uri": "https://localhost:8080/"
        },
        "id": "dH96e95rpogP",
        "outputId": "5520be2c-83b7-42fa-a5d3-81d8e649de9b"
      },
      "source": [
        "a.size"
      ],
      "execution_count": 32,
      "outputs": [
        {
          "output_type": "execute_result",
          "data": {
            "text/plain": [
              "15"
            ]
          },
          "metadata": {
            "tags": []
          },
          "execution_count": 32
        }
      ]
    },
    {
      "cell_type": "code",
      "metadata": {
        "colab": {
          "base_uri": "https://localhost:8080/"
        },
        "id": "K8Goo3_Jps4s",
        "outputId": "cb65a04d-75f6-44ac-9519-d572a9561eb3"
      },
      "source": [
        "type(a)"
      ],
      "execution_count": 33,
      "outputs": [
        {
          "output_type": "execute_result",
          "data": {
            "text/plain": [
              "numpy.ndarray"
            ]
          },
          "metadata": {
            "tags": []
          },
          "execution_count": 33
        }
      ]
    },
    {
      "cell_type": "code",
      "metadata": {
        "colab": {
          "base_uri": "https://localhost:8080/"
        },
        "id": "DlOex2VwpxqY",
        "outputId": "b4762008-6b69-46c1-8f60-35807fab123b"
      },
      "source": [
        "b=np.array([[11,13,14],[56,57,58]])\n",
        "b"
      ],
      "execution_count": 39,
      "outputs": [
        {
          "output_type": "execute_result",
          "data": {
            "text/plain": [
              "array([[11, 13, 14],\n",
              "       [56, 57, 58]])"
            ]
          },
          "metadata": {
            "tags": []
          },
          "execution_count": 39
        }
      ]
    },
    {
      "cell_type": "code",
      "metadata": {
        "colab": {
          "base_uri": "https://localhost:8080/"
        },
        "id": "dxKdv11qqTm1",
        "outputId": "0adf7e8c-f37d-4f57-cc8d-538728bdff9a"
      },
      "source": [
        "b.reshape(3,2)\n",
        "b"
      ],
      "execution_count": 40,
      "outputs": [
        {
          "output_type": "execute_result",
          "data": {
            "text/plain": [
              "array([[11, 13, 14],\n",
              "       [56, 57, 58]])"
            ]
          },
          "metadata": {
            "tags": []
          },
          "execution_count": 40
        }
      ]
    },
    {
      "cell_type": "code",
      "metadata": {
        "colab": {
          "base_uri": "https://localhost:8080/"
        },
        "id": "d_FZlzOjqB9h",
        "outputId": "d64c6651-4f9e-4661-eaaa-25975c9fb4e0"
      },
      "source": [
        "c=b.reshape(3,2)\n",
        "c"
      ],
      "execution_count": 41,
      "outputs": [
        {
          "output_type": "execute_result",
          "data": {
            "text/plain": [
              "array([[11, 13],\n",
              "       [14, 56],\n",
              "       [57, 58]])"
            ]
          },
          "metadata": {
            "tags": []
          },
          "execution_count": 41
        }
      ]
    },
    {
      "cell_type": "code",
      "metadata": {
        "colab": {
          "base_uri": "https://localhost:8080/"
        },
        "id": "XRtYtrmEqm2K",
        "outputId": "0cb48325-2206-47d0-8a97-4d3242197e8e"
      },
      "source": [
        "d=np.array([['a','b','c','d','e'],['f','g','h','i','j']])\n",
        "d"
      ],
      "execution_count": 45,
      "outputs": [
        {
          "output_type": "execute_result",
          "data": {
            "text/plain": [
              "array([['a', 'b', 'c', 'd', 'e'],\n",
              "       ['f', 'g', 'h', 'i', 'j']], dtype='<U1')"
            ]
          },
          "metadata": {
            "tags": []
          },
          "execution_count": 45
        }
      ]
    },
    {
      "cell_type": "code",
      "metadata": {
        "colab": {
          "base_uri": "https://localhost:8080/"
        },
        "id": "Tile3T07q-qk",
        "outputId": "04fd3e86-2b24-42e8-e0bd-0c61563c0f5b"
      },
      "source": [
        "e=d.reshape(2,5)\n",
        "e"
      ],
      "execution_count": 46,
      "outputs": [
        {
          "output_type": "execute_result",
          "data": {
            "text/plain": [
              "array([['a', 'b', 'c', 'd', 'e'],\n",
              "       ['f', 'g', 'h', 'i', 'j']], dtype='<U1')"
            ]
          },
          "metadata": {
            "tags": []
          },
          "execution_count": 46
        }
      ]
    }
  ]
}