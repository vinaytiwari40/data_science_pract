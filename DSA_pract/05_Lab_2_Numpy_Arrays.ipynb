{
  "nbformat": 4,
  "nbformat_minor": 0,
  "metadata": {
    "colab": {
      "name": "PGLab FDS S2 NumPy.ipynb",
      "provenance": [],
      "collapsed_sections": [],
      "toc_visible": true
    },
    "kernelspec": {
      "name": "python3",
      "display_name": "Python 3"
    },
    "language_info": {
      "name": "python"
    }
  },
  "cells": [
    {
      "cell_type": "code",
      "metadata": {
        "colab": {
          "base_uri": "https://localhost:8080/",
          "height": 35
        },
        "id": "iOOXBHoicsb6",
        "outputId": "db109dd8-1eec-405d-9772-3ffc4d00f657"
      },
      "source": [
        "import numpy\n",
        "numpy.__version__"
      ],
      "execution_count": 2,
      "outputs": [
        {
          "output_type": "execute_result",
          "data": {
            "application/vnd.google.colaboratory.intrinsic+json": {
              "type": "string"
            },
            "text/plain": [
              "'1.19.5'"
            ]
          },
          "metadata": {},
          "execution_count": 2
        }
      ]
    },
    {
      "cell_type": "code",
      "metadata": {
        "colab": {
          "base_uri": "https://localhost:8080/"
        },
        "id": "3TFiWR6oc6AX",
        "outputId": "6a576f91-4655-40e3-e613-aae64047afb6"
      },
      "source": [
        "list1=[]\n",
        "list1"
      ],
      "execution_count": 3,
      "outputs": [
        {
          "output_type": "execute_result",
          "data": {
            "text/plain": [
              "[]"
            ]
          },
          "metadata": {},
          "execution_count": 3
        }
      ]
    },
    {
      "cell_type": "code",
      "metadata": {
        "colab": {
          "base_uri": "https://localhost:8080/"
        },
        "id": "QLky9NiTc6Tr",
        "outputId": "e2eb7d4e-fe23-4d15-a9e1-b6beae9ff3a7"
      },
      "source": [
        "type(list1)"
      ],
      "execution_count": 4,
      "outputs": [
        {
          "output_type": "execute_result",
          "data": {
            "text/plain": [
              "list"
            ]
          },
          "metadata": {},
          "execution_count": 4
        }
      ]
    },
    {
      "cell_type": "code",
      "metadata": {
        "colab": {
          "base_uri": "https://localhost:8080/"
        },
        "id": "5gB8UG-vc6sR",
        "outputId": "e7a96e93-aee8-41bb-a54e-a20b5b23aba4"
      },
      "source": [
        "list2 = list(range(10))\n",
        "list2"
      ],
      "execution_count": 5,
      "outputs": [
        {
          "output_type": "execute_result",
          "data": {
            "text/plain": [
              "[0, 1, 2, 3, 4, 5, 6, 7, 8, 9]"
            ]
          },
          "metadata": {},
          "execution_count": 5
        }
      ]
    },
    {
      "cell_type": "code",
      "metadata": {
        "colab": {
          "base_uri": "https://localhost:8080/"
        },
        "id": "7-8rXZKgdb3O",
        "outputId": "1b4f5f03-fc42-4409-f749-85800a431bcc"
      },
      "source": [
        "list3 = [str(c) for c in list2]\n",
        "list3"
      ],
      "execution_count": 6,
      "outputs": [
        {
          "output_type": "execute_result",
          "data": {
            "text/plain": [
              "['0', '1', '2', '3', '4', '5', '6', '7', '8', '9']"
            ]
          },
          "metadata": {},
          "execution_count": 6
        }
      ]
    },
    {
      "cell_type": "code",
      "metadata": {
        "colab": {
          "base_uri": "https://localhost:8080/"
        },
        "id": "eb2DLkJCdiFr",
        "outputId": "d1a420f9-b52a-45e9-80f7-7d3b4bbdffaf"
      },
      "source": [
        "list4 = [1,10.2,'c','Amit',True]\n",
        "list4"
      ],
      "execution_count": 7,
      "outputs": [
        {
          "output_type": "execute_result",
          "data": {
            "text/plain": [
              "[1, 10.2, 'c', 'Amit', True]"
            ]
          },
          "metadata": {},
          "execution_count": 7
        }
      ]
    },
    {
      "cell_type": "code",
      "metadata": {
        "colab": {
          "base_uri": "https://localhost:8080/"
        },
        "id": "bjOr2wCMeKsv",
        "outputId": "8954f210-4100-45dd-ce66-f9a03b8eb3a9"
      },
      "source": [
        "type(list4)"
      ],
      "execution_count": 8,
      "outputs": [
        {
          "output_type": "execute_result",
          "data": {
            "text/plain": [
              "list"
            ]
          },
          "metadata": {},
          "execution_count": 8
        }
      ]
    },
    {
      "cell_type": "code",
      "metadata": {
        "colab": {
          "base_uri": "https://localhost:8080/"
        },
        "id": "N6RKsePJe4df",
        "outputId": "b5be5e4c-288b-437e-9f11-3a4325cf7eb1"
      },
      "source": [
        "[type(item) for item in list4]"
      ],
      "execution_count": 11,
      "outputs": [
        {
          "output_type": "execute_result",
          "data": {
            "text/plain": [
              "[int, float, str, str, bool]"
            ]
          },
          "metadata": {},
          "execution_count": 11
        }
      ]
    },
    {
      "cell_type": "code",
      "metadata": {
        "colab": {
          "base_uri": "https://localhost:8080/"
        },
        "id": "g5F0VIX9fc6P",
        "outputId": "c24cbd88-da01-4e10-f165-ab44b64828ee"
      },
      "source": [
        "import array as ar\n",
        "L = list(range(10))\n",
        "A = ar.array('i', L)\n",
        "A"
      ],
      "execution_count": 12,
      "outputs": [
        {
          "output_type": "execute_result",
          "data": {
            "text/plain": [
              "array('i', [0, 1, 2, 3, 4, 5, 6, 7, 8, 9])"
            ]
          },
          "metadata": {},
          "execution_count": 12
        }
      ]
    },
    {
      "cell_type": "code",
      "metadata": {
        "colab": {
          "base_uri": "https://localhost:8080/"
        },
        "id": "VAUtxM8yjavT",
        "outputId": "27149fe8-002e-4c5c-e881-43c3f212ff74"
      },
      "source": [
        "import numpy as np\n",
        "np.array([1,4,2,5,3])"
      ],
      "execution_count": 13,
      "outputs": [
        {
          "output_type": "execute_result",
          "data": {
            "text/plain": [
              "array([1, 4, 2, 5, 3])"
            ]
          },
          "metadata": {},
          "execution_count": 13
        }
      ]
    },
    {
      "cell_type": "code",
      "metadata": {
        "colab": {
          "base_uri": "https://localhost:8080/"
        },
        "id": "rta7-0oNjz3h",
        "outputId": "094b2e34-2bcb-4aa0-f2f3-70b536a08574"
      },
      "source": [
        "np.array([10.1,2,3,4])"
      ],
      "execution_count": 14,
      "outputs": [
        {
          "output_type": "execute_result",
          "data": {
            "text/plain": [
              "array([10.1,  2. ,  3. ,  4. ])"
            ]
          },
          "metadata": {},
          "execution_count": 14
        }
      ]
    },
    {
      "cell_type": "code",
      "metadata": {
        "colab": {
          "base_uri": "https://localhost:8080/"
        },
        "id": "W0ieQYf6kNkG",
        "outputId": "d95cf1db-b362-4713-e9b3-7a66f26cee56"
      },
      "source": [
        "np.array([1,2,3,4], dtype='float32')"
      ],
      "execution_count": 17,
      "outputs": [
        {
          "output_type": "execute_result",
          "data": {
            "text/plain": [
              "array([1., 2., 3., 4.], dtype=float32)"
            ]
          },
          "metadata": {},
          "execution_count": 17
        }
      ]
    },
    {
      "cell_type": "code",
      "metadata": {
        "colab": {
          "base_uri": "https://localhost:8080/"
        },
        "id": "c45mzOtmkfuj",
        "outputId": "23bcdd48-6a59-4e51-e7fa-39043796aa98"
      },
      "source": [
        "np.array([range(i, i+3) for i in [2,4,6]])"
      ],
      "execution_count": 18,
      "outputs": [
        {
          "output_type": "execute_result",
          "data": {
            "text/plain": [
              "array([[2, 3, 4],\n",
              "       [4, 5, 6],\n",
              "       [6, 7, 8]])"
            ]
          },
          "metadata": {},
          "execution_count": 18
        }
      ]
    },
    {
      "cell_type": "code",
      "metadata": {
        "colab": {
          "base_uri": "https://localhost:8080/"
        },
        "id": "JxRpLwIllUGM",
        "outputId": "110245a2-247a-4c00-c856-0b486e8fc9ef"
      },
      "source": [
        "np.zeros(10, dtype=int)"
      ],
      "execution_count": 19,
      "outputs": [
        {
          "output_type": "execute_result",
          "data": {
            "text/plain": [
              "array([0, 0, 0, 0, 0, 0, 0, 0, 0, 0])"
            ]
          },
          "metadata": {},
          "execution_count": 19
        }
      ]
    },
    {
      "cell_type": "code",
      "metadata": {
        "colab": {
          "base_uri": "https://localhost:8080/"
        },
        "id": "SqmcYeEol6Jv",
        "outputId": "8649cb21-f98d-4bc1-8929-067014480edb"
      },
      "source": [
        "np.zeros((2,5),dtype='float32')"
      ],
      "execution_count": 21,
      "outputs": [
        {
          "output_type": "execute_result",
          "data": {
            "text/plain": [
              "array([[0., 0., 0., 0., 0.],\n",
              "       [0., 0., 0., 0., 0.]], dtype=float32)"
            ]
          },
          "metadata": {},
          "execution_count": 21
        }
      ]
    },
    {
      "cell_type": "code",
      "metadata": {
        "colab": {
          "base_uri": "https://localhost:8080/"
        },
        "id": "9qgtQEzPmarb",
        "outputId": "696a58ba-7700-4b2e-bd30-6b5cdfc46a78"
      },
      "source": [
        "np.ones((2,5),dtype=float)"
      ],
      "execution_count": 22,
      "outputs": [
        {
          "output_type": "execute_result",
          "data": {
            "text/plain": [
              "array([[1., 1., 1., 1., 1.],\n",
              "       [1., 1., 1., 1., 1.]])"
            ]
          },
          "metadata": {},
          "execution_count": 22
        }
      ]
    },
    {
      "cell_type": "code",
      "metadata": {
        "colab": {
          "base_uri": "https://localhost:8080/"
        },
        "id": "7jisxmrPm1kn",
        "outputId": "f68a6037-9a47-4931-f28e-a9a202558032"
      },
      "source": [
        "np.full((3,5), 3.0)"
      ],
      "execution_count": 23,
      "outputs": [
        {
          "output_type": "execute_result",
          "data": {
            "text/plain": [
              "array([[3., 3., 3., 3., 3.],\n",
              "       [3., 3., 3., 3., 3.],\n",
              "       [3., 3., 3., 3., 3.]])"
            ]
          },
          "metadata": {},
          "execution_count": 23
        }
      ]
    },
    {
      "cell_type": "code",
      "metadata": {
        "colab": {
          "base_uri": "https://localhost:8080/"
        },
        "id": "pFJQj838nEs-",
        "outputId": "e4d4f18f-fa34-4fca-d123-584b676cb7f3"
      },
      "source": [
        "np.arange(0,20,3)"
      ],
      "execution_count": 27,
      "outputs": [
        {
          "output_type": "execute_result",
          "data": {
            "text/plain": [
              "array([ 0,  3,  6,  9, 12, 15, 18])"
            ]
          },
          "metadata": {},
          "execution_count": 27
        }
      ]
    },
    {
      "cell_type": "code",
      "metadata": {
        "colab": {
          "base_uri": "https://localhost:8080/"
        },
        "id": "CTZb1Vibnd22",
        "outputId": "010a5592-3b77-475e-be61-c89d0eec4ff1"
      },
      "source": [
        "np.arange(0,2,0.5)"
      ],
      "execution_count": 28,
      "outputs": [
        {
          "output_type": "execute_result",
          "data": {
            "text/plain": [
              "array([0. , 0.5, 1. , 1.5])"
            ]
          },
          "metadata": {},
          "execution_count": 28
        }
      ]
    },
    {
      "cell_type": "code",
      "metadata": {
        "colab": {
          "base_uri": "https://localhost:8080/"
        },
        "id": "MS7a8S3TocZs",
        "outputId": "adb8fd9c-9920-484f-f85e-4e47a07007db"
      },
      "source": [
        "np.linspace(0,1,10)"
      ],
      "execution_count": 32,
      "outputs": [
        {
          "output_type": "execute_result",
          "data": {
            "text/plain": [
              "array([0.        , 0.11111111, 0.22222222, 0.33333333, 0.44444444,\n",
              "       0.55555556, 0.66666667, 0.77777778, 0.88888889, 1.        ])"
            ]
          },
          "metadata": {},
          "execution_count": 32
        }
      ]
    },
    {
      "cell_type": "code",
      "metadata": {
        "colab": {
          "base_uri": "https://localhost:8080/"
        },
        "id": "nMM0G--KohFi",
        "outputId": "8ed0964f-71ee-4683-88fb-3baf26b93e64"
      },
      "source": [
        "np.random.random((3,3))"
      ],
      "execution_count": 36,
      "outputs": [
        {
          "output_type": "execute_result",
          "data": {
            "text/plain": [
              "array([[0.93451709, 0.48694332, 0.39960442],\n",
              "       [0.14319764, 0.70369083, 0.4570287 ],\n",
              "       [0.64689939, 0.87563132, 0.83227251]])"
            ]
          },
          "metadata": {},
          "execution_count": 36
        }
      ]
    },
    {
      "cell_type": "code",
      "metadata": {
        "colab": {
          "base_uri": "https://localhost:8080/"
        },
        "id": "ivDYAb6NpH_H",
        "outputId": "e65f6b3e-c267-42d9-c85b-d83571860522"
      },
      "source": [
        "np.random.normal(0,1,(3,3))"
      ],
      "execution_count": 40,
      "outputs": [
        {
          "output_type": "execute_result",
          "data": {
            "text/plain": [
              "array([[ 0.07785557,  0.0462172 , -0.51552939],\n",
              "       [ 0.54779017,  1.30591276, -1.55466313],\n",
              "       [-0.28017607,  0.21375153,  1.06807619]])"
            ]
          },
          "metadata": {},
          "execution_count": 40
        }
      ]
    },
    {
      "cell_type": "code",
      "metadata": {
        "colab": {
          "base_uri": "https://localhost:8080/"
        },
        "id": "Iaq_9ABRprfP",
        "outputId": "53dd3783-df53-41cd-d01f-d645edeecce1"
      },
      "source": [
        "np.random.randint(0,10,(3,3))"
      ],
      "execution_count": 42,
      "outputs": [
        {
          "output_type": "execute_result",
          "data": {
            "text/plain": [
              "array([[8, 4, 2],\n",
              "       [7, 9, 3],\n",
              "       [2, 1, 2]])"
            ]
          },
          "metadata": {},
          "execution_count": 42
        }
      ]
    },
    {
      "cell_type": "code",
      "metadata": {
        "colab": {
          "base_uri": "https://localhost:8080/"
        },
        "id": "ml-nk57rqCqY",
        "outputId": "1ee738df-d588-42fc-85f7-08a9541801fb"
      },
      "source": [
        "np.eye(3)"
      ],
      "execution_count": 44,
      "outputs": [
        {
          "output_type": "execute_result",
          "data": {
            "text/plain": [
              "array([[1., 0., 0.],\n",
              "       [0., 1., 0.],\n",
              "       [0., 0., 1.]])"
            ]
          },
          "metadata": {},
          "execution_count": 44
        }
      ]
    },
    {
      "cell_type": "code",
      "metadata": {
        "colab": {
          "base_uri": "https://localhost:8080/"
        },
        "id": "heWvG6idqb9t",
        "outputId": "53de3bc0-2e13-41f9-c52b-3a7f95102749"
      },
      "source": [
        "np.empty(3)"
      ],
      "execution_count": 45,
      "outputs": [
        {
          "output_type": "execute_result",
          "data": {
            "text/plain": [
              "array([1., 1., 1.])"
            ]
          },
          "metadata": {},
          "execution_count": 45
        }
      ]
    },
    {
      "cell_type": "code",
      "metadata": {
        "colab": {
          "base_uri": "https://localhost:8080/"
        },
        "id": "jWTd7p3-qflA",
        "outputId": "6f373b96-a61a-4551-d2d3-19b50d19205e"
      },
      "source": [
        "import numpy as np\n",
        "np.random.seed(40)\n",
        "\n",
        "x1 = np.random.randint(50, size=6)\n",
        "x1"
      ],
      "execution_count": 54,
      "outputs": [
        {
          "output_type": "execute_result",
          "data": {
            "text/plain": [
              "array([ 6, 27,  7, 37,  1, 12])"
            ]
          },
          "metadata": {},
          "execution_count": 54
        }
      ]
    },
    {
      "cell_type": "code",
      "metadata": {
        "colab": {
          "base_uri": "https://localhost:8080/"
        },
        "id": "Ayeuf6lSr15p",
        "outputId": "39685701-3b0b-4d31-d6c7-2f3aa6f08819"
      },
      "source": [
        "np.random.seed(100)\n",
        "x2 = np.random.randint(200,size=(5,6,7))\n",
        "x2"
      ],
      "execution_count": 58,
      "outputs": [
        {
          "output_type": "execute_result",
          "data": {
            "text/plain": [
              "array([[[  8,  24,  67, 103,  87,  79, 176],\n",
              "        [138,  94, 180,  98,  53,  66,  14],\n",
              "        [ 34,  24, 143, 107,  60,  58, 144],\n",
              "        [137,  93,  86, 130, 155, 108, 132],\n",
              "        [159, 129, 141, 100,   4,  91, 187],\n",
              "        [ 67, 135,  49, 175, 193,  61,  14]],\n",
              "\n",
              "       [[183, 199,  80,   2, 121, 105, 147],\n",
              "        [ 63, 181,  27,  56, 113, 158, 176],\n",
              "        [ 47, 167, 109,  38, 172,  18, 192],\n",
              "        [184, 162, 181,  17,  72,  13, 106],\n",
              "        [ 30,  17,  53,  68, 178,  91, 181],\n",
              "        [ 78,   0,  13, 185, 106, 131,  70]],\n",
              "\n",
              "       [[131, 138, 188, 131, 105, 176, 180],\n",
              "        [ 43,  36,   5,  71,  38,  94, 170],\n",
              "        [ 84,  95, 114, 119,  76,  33,  58],\n",
              "        [102, 170, 150,   0, 183, 147,  53],\n",
              "        [196, 190,  50, 196, 163, 151,   9],\n",
              "        [176,  21, 153, 182,   6, 165, 102]],\n",
              "\n",
              "       [[122, 116, 186,  39, 107,  51,  30],\n",
              "        [121,  66, 152, 183,  17,  45,  89],\n",
              "        [173,  35,  16,  12,  86, 109,  67],\n",
              "        [ 20, 138,   8, 158, 140, 146,  93],\n",
              "        [119,  92,  44,  57, 127,   0,  73],\n",
              "        [182,  66, 144, 133, 179,  90,  34]],\n",
              "\n",
              "       [[195,  94, 182,  77, 129,  14, 115],\n",
              "        [ 33, 148, 168,  24, 186,  28, 135],\n",
              "        [  2,  63, 113, 130, 145,  74, 181],\n",
              "        [ 30,  67, 156, 165,  82, 145, 138],\n",
              "        [141,  81, 117,  25, 194, 143, 108],\n",
              "        [122,  11, 101,  38, 116,  22,  55]]])"
            ]
          },
          "metadata": {},
          "execution_count": 58
        }
      ]
    },
    {
      "cell_type": "code",
      "metadata": {
        "colab": {
          "base_uri": "https://localhost:8080/"
        },
        "id": "zpm6uz4Vs5Lm",
        "outputId": "749c186d-4d01-40d8-ecee-d96db1908521"
      },
      "source": [
        "np.random.seed(100)\n",
        "x3 = np.random.randint(200, size=(4,2,2,3))\n",
        "x3"
      ],
      "execution_count": 59,
      "outputs": [
        {
          "output_type": "execute_result",
          "data": {
            "text/plain": [
              "array([[[[  8,  24,  67],\n",
              "         [103,  87,  79]],\n",
              "\n",
              "        [[176, 138,  94],\n",
              "         [180,  98,  53]]],\n",
              "\n",
              "\n",
              "       [[[ 66,  14,  34],\n",
              "         [ 24, 143, 107]],\n",
              "\n",
              "        [[ 60,  58, 144],\n",
              "         [137,  93,  86]]],\n",
              "\n",
              "\n",
              "       [[[130, 155, 108],\n",
              "         [132, 159, 129]],\n",
              "\n",
              "        [[141, 100,   4],\n",
              "         [ 91, 187,  67]]],\n",
              "\n",
              "\n",
              "       [[[135,  49, 175],\n",
              "         [193,  61,  14]],\n",
              "\n",
              "        [[183, 199,  80],\n",
              "         [  2, 121, 105]]]])"
            ]
          },
          "metadata": {},
          "execution_count": 59
        }
      ]
    },
    {
      "cell_type": "code",
      "metadata": {
        "colab": {
          "base_uri": "https://localhost:8080/"
        },
        "id": "OODX1W0Yt_u0",
        "outputId": "ac5bc3ae-fab1-44c8-c885-f5e941fba1f3"
      },
      "source": [
        "np.random.seed(100)\n",
        "x4 = np.random.randint(200, size=(2,4,2,2,3))\n",
        "x4"
      ],
      "execution_count": 60,
      "outputs": [
        {
          "output_type": "execute_result",
          "data": {
            "text/plain": [
              "array([[[[[  8,  24,  67],\n",
              "          [103,  87,  79]],\n",
              "\n",
              "         [[176, 138,  94],\n",
              "          [180,  98,  53]]],\n",
              "\n",
              "\n",
              "        [[[ 66,  14,  34],\n",
              "          [ 24, 143, 107]],\n",
              "\n",
              "         [[ 60,  58, 144],\n",
              "          [137,  93,  86]]],\n",
              "\n",
              "\n",
              "        [[[130, 155, 108],\n",
              "          [132, 159, 129]],\n",
              "\n",
              "         [[141, 100,   4],\n",
              "          [ 91, 187,  67]]],\n",
              "\n",
              "\n",
              "        [[[135,  49, 175],\n",
              "          [193,  61,  14]],\n",
              "\n",
              "         [[183, 199,  80],\n",
              "          [  2, 121, 105]]]],\n",
              "\n",
              "\n",
              "\n",
              "       [[[[147,  63, 181],\n",
              "          [ 27,  56, 113]],\n",
              "\n",
              "         [[158, 176,  47],\n",
              "          [167, 109,  38]]],\n",
              "\n",
              "\n",
              "        [[[172,  18, 192],\n",
              "          [184, 162, 181]],\n",
              "\n",
              "         [[ 17,  72,  13],\n",
              "          [106,  30,  17]]],\n",
              "\n",
              "\n",
              "        [[[ 53,  68, 178],\n",
              "          [ 91, 181,  78]],\n",
              "\n",
              "         [[  0,  13, 185],\n",
              "          [106, 131,  70]]],\n",
              "\n",
              "\n",
              "        [[[131, 138, 188],\n",
              "          [131, 105, 176]],\n",
              "\n",
              "         [[180,  43,  36],\n",
              "          [  5,  71,  38]]]]])"
            ]
          },
          "metadata": {},
          "execution_count": 60
        }
      ]
    },
    {
      "cell_type": "code",
      "metadata": {
        "colab": {
          "base_uri": "https://localhost:8080/"
        },
        "id": "ytimx1EOuMC7",
        "outputId": "02729a67-10e7-4205-d93f-63905a6d053e"
      },
      "source": [
        "x2.shape"
      ],
      "execution_count": 62,
      "outputs": [
        {
          "output_type": "execute_result",
          "data": {
            "text/plain": [
              "(5, 6, 7)"
            ]
          },
          "metadata": {},
          "execution_count": 62
        }
      ]
    },
    {
      "cell_type": "code",
      "metadata": {
        "colab": {
          "base_uri": "https://localhost:8080/"
        },
        "id": "JMpPA_vhwCIQ",
        "outputId": "4bb07cd3-184e-4e46-b5a1-0efb051ffa84"
      },
      "source": [
        "x2.ndim"
      ],
      "execution_count": 64,
      "outputs": [
        {
          "output_type": "execute_result",
          "data": {
            "text/plain": [
              "3"
            ]
          },
          "metadata": {},
          "execution_count": 64
        }
      ]
    },
    {
      "cell_type": "code",
      "metadata": {
        "colab": {
          "base_uri": "https://localhost:8080/"
        },
        "id": "57HZSfd7wP0i",
        "outputId": "200ba0f8-ca10-4b75-e495-bb9bfccffd4d"
      },
      "source": [
        "x2.size"
      ],
      "execution_count": 65,
      "outputs": [
        {
          "output_type": "execute_result",
          "data": {
            "text/plain": [
              "210"
            ]
          },
          "metadata": {},
          "execution_count": 65
        }
      ]
    },
    {
      "cell_type": "code",
      "metadata": {
        "colab": {
          "base_uri": "https://localhost:8080/"
        },
        "id": "QH6YH2FCwTkJ",
        "outputId": "f057c2e6-7df8-4553-e372-5b5d651bab61"
      },
      "source": [
        "x2.nbytes"
      ],
      "execution_count": 66,
      "outputs": [
        {
          "output_type": "execute_result",
          "data": {
            "text/plain": [
              "1680"
            ]
          },
          "metadata": {},
          "execution_count": 66
        }
      ]
    },
    {
      "cell_type": "code",
      "metadata": {
        "colab": {
          "base_uri": "https://localhost:8080/"
        },
        "id": "4TEDMTdVwgEp",
        "outputId": "f2e16cfe-6d71-4e1f-a4e2-985e0e048295"
      },
      "source": [
        "x2.itemsize"
      ],
      "execution_count": 67,
      "outputs": [
        {
          "output_type": "execute_result",
          "data": {
            "text/plain": [
              "8"
            ]
          },
          "metadata": {},
          "execution_count": 67
        }
      ]
    },
    {
      "cell_type": "code",
      "metadata": {
        "id": "XnNPJsF9wmEe"
      },
      "source": [
        ""
      ],
      "execution_count": null,
      "outputs": []
    }
  ]
}